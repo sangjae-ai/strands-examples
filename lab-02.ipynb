{
 "cells": [
  {
   "cell_type": "markdown",
   "id": "8c144f7d",
   "metadata": {},
   "source": [
    "# Lab-02"
   ]
  },
  {
   "cell_type": "markdown",
   "id": "c52d531b",
   "metadata": {},
   "source": [
    "## Conversation\n",
    "- 처음 상태에서 agent가 저장하고 있는 상태를 확인 해 봅니다. \n",
    "- \"안녕하세요\"의 user 입력과 답변 기록되어 있습니다. (`agent.messages`를 보면 전체 히스토리가 기록되고 있음을 알수 있습니다.)"
   ]
  },
  {
   "cell_type": "code",
   "execution_count": 1,
   "id": "e9b7d828",
   "metadata": {},
   "outputs": [
    {
     "name": "stdout",
     "output_type": "stream",
     "text": [
      "안녕하세요! 무엇을 도와드릴까요? 궁금한 점이 있으시면 편하게 물어봐 주세요.응답 : 안녕하세요! 무엇을 도와드릴까요? 궁금한 점이 있으시면 편하게 물어봐 주세요.\n",
      "\n",
      "\n",
      " ------- agent의 모든 내역 -----\n",
      "\n",
      "[{'role': 'user', 'content': [{'text': '안녕하세요!'}]}, {'role': 'assistant', 'content': [{'text': '안녕하세요! 무엇을 도와드릴까요? 궁금한 점이 있으시면 편하게 물어봐 주세요.'}]}]\n"
     ]
    }
   ],
   "source": [
    "from strands import Agent\n",
    "\n",
    "agent = Agent()\n",
    "results = agent(\"안녕하세요!\")\n",
    "\n",
    "print(\"응답 :\", results)\n",
    "print(\"\\n ------- agent의 모든 내역 -----\\n\")\n",
    "print(agent.messages)  \n"
   ]
  },
  {
   "cell_type": "markdown",
   "id": "7596167c",
   "metadata": {},
   "source": [
    "- 다음 상태로써, 추가적인 여러번의 대화를 시도 해 보겠습니다. \n",
    "- 예로써, 이름과, 직업, 타이틀 등에 대한 정보를 주는 대화를 해 보겠습니다. \n",
    "- 그리고 난다음, `agent.messages`를 확인해 보면, 위 `대화-답변`셋이 모두 기록되어 있는 Conversation 방식으로 유지/관리 되는 것을 확인 할 수 있습니다. "
   ]
  },
  {
   "cell_type": "code",
   "execution_count": 2,
   "id": "6499798d",
   "metadata": {},
   "outputs": [
    {
     "name": "stdout",
     "output_type": "stream",
     "text": [
      "안녕하세요, 홍길동님! 반갑습니다. 오늘 어떤 도움이 필요하신가요?안녕하세요, 홍길동님! AWS에서 근무하시는군요. 아마존 웹 서비스는 클라우드 컴퓨팅 분야에서 선도적인 기업이죠. 혹시 AWS와 관련해서 도움이 필요하신 일이 있으신가요? 아니면 다른 질문이 있으시다면 말씀해 주세요.반갑습니다, 홍길동님! AWS에서 AIML(Artificial Intelligence and Machine Learning) Specialist Solutions Architect로 근무하고 계시는군요. 정말 흥미로운 직책이네요. \n",
      "\n",
      "AI와 ML 솔루션을 설계하고 고객들이 이러한 기술을 효과적으로 활용할 수 있도록 도와주는 중요한 역할을 하고 계시겠네요. AWS의 SageMaker, Rekognition, Comprehend와 같은 서비스들을 자주 다루시겠군요.\n",
      "\n",
      "혹시 AI/ML 관련해서 특별히 이야기하고 싶으신 주제가 있으신가요? 아니면 제가 도와드릴 다른 일이 있을까요?\n",
      " ------- agent의 모든 내역 -----\n",
      "\n",
      "[{'role': 'user', 'content': [{'text': '안녕하세요!'}]}, {'role': 'assistant', 'content': [{'text': '안녕하세요! 무엇을 도와드릴까요? 궁금한 점이 있으시면 편하게 물어봐 주세요.'}]}, {'role': 'user', 'content': [{'text': '나의 이름은 홍길동 입니다.'}]}, {'role': 'assistant', 'content': [{'text': '안녕하세요, 홍길동님! 반갑습니다. 오늘 어떤 도움이 필요하신가요?'}]}, {'role': 'user', 'content': [{'text': '나의 회사는 AWS 입니다.'}]}, {'role': 'assistant', 'content': [{'text': '안녕하세요, 홍길동님! AWS에서 근무하시는군요. 아마존 웹 서비스는 클라우드 컴퓨팅 분야에서 선도적인 기업이죠. 혹시 AWS와 관련해서 도움이 필요하신 일이 있으신가요? 아니면 다른 질문이 있으시다면 말씀해 주세요.'}]}, {'role': 'user', 'content': [{'text': '나의 직업 타이틀은 AIML Specialist SA 입니다.'}]}, {'role': 'assistant', 'content': [{'text': '반갑습니다, 홍길동님! AWS에서 AIML(Artificial Intelligence and Machine Learning) Specialist Solutions Architect로 근무하고 계시는군요. 정말 흥미로운 직책이네요. \\n\\nAI와 ML 솔루션을 설계하고 고객들이 이러한 기술을 효과적으로 활용할 수 있도록 도와주는 중요한 역할을 하고 계시겠네요. AWS의 SageMaker, Rekognition, Comprehend와 같은 서비스들을 자주 다루시겠군요.\\n\\n혹시 AI/ML 관련해서 특별히 이야기하고 싶으신 주제가 있으신가요? 아니면 제가 도와드릴 다른 일이 있을까요?'}]}]\n"
     ]
    }
   ],
   "source": [
    "agent('나의 이름은 홍길동 입니다.')\n",
    "agent('나의 회사는 AWS 입니다.')\n",
    "agent('나의 직업 타이틀은 AIML Specialist SA 입니다.')\n",
    "\n",
    "print(\"\\n ------- agent의 모든 내역 -----\\n\")\n",
    "print(agent.messages)  "
   ]
  },
  {
   "cell_type": "markdown",
   "id": "a3d211c6",
   "metadata": {},
   "source": [
    "- 위에서 대화한 내용을 문의하면, 대화 내용에 맞게 잘 답변 합니다. \n",
    "- 사실, 너무 당연한 부분입니다. Prompt User message 자체에 계속 덧붙여 입력되고 있기 때문입니다."
   ]
  },
  {
   "cell_type": "code",
   "execution_count": 3,
   "id": "b50e3e53",
   "metadata": {},
   "outputs": [
    {
     "name": "stdout",
     "output_type": "stream",
     "text": [
      "네, 기억합니다. 홍길동님이시죠! AWS에서 AIML Specialist SA로 일하고 계신다고 말씀해 주셨습니다.\n",
      " ------- agent의 모든 내역 -----\n",
      "\n",
      "[{'role': 'user', 'content': [{'text': '안녕하세요!'}]}, {'role': 'assistant', 'content': [{'text': '안녕하세요! 무엇을 도와드릴까요? 궁금한 점이 있으시면 편하게 물어봐 주세요.'}]}, {'role': 'user', 'content': [{'text': '나의 이름은 홍길동 입니다.'}]}, {'role': 'assistant', 'content': [{'text': '안녕하세요, 홍길동님! 반갑습니다. 오늘 어떤 도움이 필요하신가요?'}]}, {'role': 'user', 'content': [{'text': '나의 회사는 AWS 입니다.'}]}, {'role': 'assistant', 'content': [{'text': '안녕하세요, 홍길동님! AWS에서 근무하시는군요. 아마존 웹 서비스는 클라우드 컴퓨팅 분야에서 선도적인 기업이죠. 혹시 AWS와 관련해서 도움이 필요하신 일이 있으신가요? 아니면 다른 질문이 있으시다면 말씀해 주세요.'}]}, {'role': 'user', 'content': [{'text': '나의 직업 타이틀은 AIML Specialist SA 입니다.'}]}, {'role': 'assistant', 'content': [{'text': '반갑습니다, 홍길동님! AWS에서 AIML(Artificial Intelligence and Machine Learning) Specialist Solutions Architect로 근무하고 계시는군요. 정말 흥미로운 직책이네요. \\n\\nAI와 ML 솔루션을 설계하고 고객들이 이러한 기술을 효과적으로 활용할 수 있도록 도와주는 중요한 역할을 하고 계시겠네요. AWS의 SageMaker, Rekognition, Comprehend와 같은 서비스들을 자주 다루시겠군요.\\n\\n혹시 AI/ML 관련해서 특별히 이야기하고 싶으신 주제가 있으신가요? 아니면 제가 도와드릴 다른 일이 있을까요?'}]}, {'role': 'user', 'content': [{'text': '나의 이름을 기억하나요?'}]}, {'role': 'assistant', 'content': [{'text': '네, 기억합니다. 홍길동님이시죠! AWS에서 AIML Specialist SA로 일하고 계신다고 말씀해 주셨습니다.'}]}]\n"
     ]
    }
   ],
   "source": [
    "agent(\"나의 이름을 기억하나요?\")\n",
    "print(\"\\n ------- agent의 모든 내역 -----\\n\")\n",
    "print(agent.messages)  "
   ]
  },
  {
   "cell_type": "code",
   "execution_count": 4,
   "id": "721179d6",
   "metadata": {},
   "outputs": [
    {
     "name": "stdout",
     "output_type": "stream",
     "text": [
      "숫자 1을 입력하셨네요. 더 자세한 질문이나 도움이 필요하신 내용이 있으시면 알려주세요. 홍길동님께서 AWS의 AIML Specialist SA로 일하신다는 정보는 계속 기억하고 있습니다.숫자 2를 입력하셨네요. 특별히 도움이 필요하신 내용이 있으시면 좀 더 자세히 알려주세요. 홍길동님의 AWS에서 AIML Specialist SA로서의 경험이나 질문에 대해 도움을 드릴 수 있습니다.숫자 3을 입력하셨네요. 구체적인 질문이나 도움이 필요한 내용이 있으시면 알려주세요. 제가 홍길동님의 질문에 답변해 드리겠습니다. AI, ML, AWS 관련 주제나 다른 어떤 주제에 관해서도 도움을 드릴 수 있습니다."
     ]
    },
    {
     "data": {
      "text/plain": [
       "AgentResult(stop_reason='end_turn', message={'role': 'assistant', 'content': [{'text': '숫자 3을 입력하셨네요. 구체적인 질문이나 도움이 필요한 내용이 있으시면 알려주세요. 제가 홍길동님의 질문에 답변해 드리겠습니다. AI, ML, AWS 관련 주제나 다른 어떤 주제에 관해서도 도움을 드릴 수 있습니다.'}]}, metrics=EventLoopMetrics(cycle_count=8, tool_metrics={}, cycle_durations=[2.2601211071014404, 1.2016000747680664, 3.065495014190674, 8.181349992752075, 2.514082193374634, 3.675328016281128, 3.234873056411743, 3.8788058757781982], traces=[<strands.telemetry.metrics.Trace object at 0x135c8c790>, <strands.telemetry.metrics.Trace object at 0x135cd20d0>, <strands.telemetry.metrics.Trace object at 0x135cd34d0>, <strands.telemetry.metrics.Trace object at 0x135cbf590>, <strands.telemetry.metrics.Trace object at 0x131480950>, <strands.telemetry.metrics.Trace object at 0x135cbdf10>, <strands.telemetry.metrics.Trace object at 0x131086750>, <strands.telemetry.metrics.Trace object at 0x1313fbb90>], accumulated_usage={'inputTokens': 3314, 'outputTokens': 852, 'totalTokens': 4166}, accumulated_metrics={'latencyMs': 26027}), state={})"
      ]
     },
     "execution_count": 4,
     "metadata": {},
     "output_type": "execute_result"
    }
   ],
   "source": [
    "agent('1')\n",
    "agent('2')\n",
    "agent('3')\n"
   ]
  },
  {
   "cell_type": "code",
   "execution_count": 5,
   "id": "31b46f89",
   "metadata": {},
   "outputs": [
    {
     "name": "stdout",
     "output_type": "stream",
     "text": [
      "\n",
      " ------- agent의 모든 내역 -----\n",
      "\n",
      "[{'role': 'user', 'content': [{'text': '안녕하세요!'}]}, {'role': 'assistant', 'content': [{'text': '안녕하세요! 무엇을 도와드릴까요? 궁금한 점이 있으시면 편하게 물어봐 주세요.'}]}, {'role': 'user', 'content': [{'text': '나의 이름은 홍길동 입니다.'}]}, {'role': 'assistant', 'content': [{'text': '안녕하세요, 홍길동님! 반갑습니다. 오늘 어떤 도움이 필요하신가요?'}]}, {'role': 'user', 'content': [{'text': '나의 회사는 AWS 입니다.'}]}, {'role': 'assistant', 'content': [{'text': '안녕하세요, 홍길동님! AWS에서 근무하시는군요. 아마존 웹 서비스는 클라우드 컴퓨팅 분야에서 선도적인 기업이죠. 혹시 AWS와 관련해서 도움이 필요하신 일이 있으신가요? 아니면 다른 질문이 있으시다면 말씀해 주세요.'}]}, {'role': 'user', 'content': [{'text': '나의 직업 타이틀은 AIML Specialist SA 입니다.'}]}, {'role': 'assistant', 'content': [{'text': '반갑습니다, 홍길동님! AWS에서 AIML(Artificial Intelligence and Machine Learning) Specialist Solutions Architect로 근무하고 계시는군요. 정말 흥미로운 직책이네요. \\n\\nAI와 ML 솔루션을 설계하고 고객들이 이러한 기술을 효과적으로 활용할 수 있도록 도와주는 중요한 역할을 하고 계시겠네요. AWS의 SageMaker, Rekognition, Comprehend와 같은 서비스들을 자주 다루시겠군요.\\n\\n혹시 AI/ML 관련해서 특별히 이야기하고 싶으신 주제가 있으신가요? 아니면 제가 도와드릴 다른 일이 있을까요?'}]}, {'role': 'user', 'content': [{'text': '나의 이름을 기억하나요?'}]}, {'role': 'assistant', 'content': [{'text': '네, 기억합니다. 홍길동님이시죠! AWS에서 AIML Specialist SA로 일하고 계신다고 말씀해 주셨습니다.'}]}, {'role': 'user', 'content': [{'text': '1'}]}, {'role': 'assistant', 'content': [{'text': '숫자 1을 입력하셨네요. 더 자세한 질문이나 도움이 필요하신 내용이 있으시면 알려주세요. 홍길동님께서 AWS의 AIML Specialist SA로 일하신다는 정보는 계속 기억하고 있습니다.'}]}, {'role': 'user', 'content': [{'text': '2'}]}, {'role': 'assistant', 'content': [{'text': '숫자 2를 입력하셨네요. 특별히 도움이 필요하신 내용이 있으시면 좀 더 자세히 알려주세요. 홍길동님의 AWS에서 AIML Specialist SA로서의 경험이나 질문에 대해 도움을 드릴 수 있습니다.'}]}, {'role': 'user', 'content': [{'text': '3'}]}, {'role': 'assistant', 'content': [{'text': '숫자 3을 입력하셨네요. 구체적인 질문이나 도움이 필요한 내용이 있으시면 알려주세요. 제가 홍길동님의 질문에 답변해 드리겠습니다. AI, ML, AWS 관련 주제나 다른 어떤 주제에 관해서도 도움을 드릴 수 있습니다.'}]}]\n"
     ]
    }
   ],
   "source": [
    "print(\"\\n ------- agent의 모든 내역 -----\\n\")\n",
    "print(agent.messages) "
   ]
  },
  {
   "cell_type": "markdown",
   "id": "d04f375c",
   "metadata": {},
   "source": [
    "- 몇번이나 대화 했는지 확인해 봅니다. \n",
    "- 대화가 늘어나면 무한정 대화를 덧붙여 나갈 수 있을까요?\n",
    "- 인터넷 검색 등의 Tool 실행등은 Context를 급증하게 할 것 입니다."
   ]
  },
  {
   "cell_type": "code",
   "execution_count": 6,
   "id": "64137cca",
   "metadata": {},
   "outputs": [
    {
     "name": "stdout",
     "output_type": "stream",
     "text": [
      "0 [{'text': '안녕하세요!'}]\n",
      "1 [{'text': '안녕하세요! 무엇을 도와드릴까요? 궁금한 점이 있으시면 편하게 물어봐 주세요.'}]\n",
      "2 [{'text': '나의 이름은 홍길동 입니다.'}]\n",
      "3 [{'text': '안녕하세요, 홍길동님! 반갑습니다. 오늘 어떤 도움이 필요하신가요?'}]\n",
      "4 [{'text': '나의 회사는 AWS 입니다.'}]\n",
      "5 [{'text': '안녕하세요, 홍길동님! AWS에서 근무하시는군요. 아마존 웹 서비스는 클라우드 컴퓨팅 분야에서 선도적인 기업이죠. 혹시 AWS와 관련해서 도움이 필요하신 일이 있으신가요? 아니면 다른 질문이 있으시다면 말씀해 주세요.'}]\n",
      "6 [{'text': '나의 직업 타이틀은 AIML Specialist SA 입니다.'}]\n",
      "7 [{'text': '반갑습니다, 홍길동님! AWS에서 AIML(Artificial Intelligence and Machine Learning) Specialist Solutions Architect로 근무하고 계시는군요. 정말 흥미로운 직책이네요. \\n\\nAI와 ML 솔루션을 설계하고 고객들이 이러한 기술을 효과적으로 활용할 수 있도록 도와주는 중요한 역할을 하고 계시겠네요. AWS의 SageMaker, Rekognition, Comprehend와 같은 서비스들을 자주 다루시겠군요.\\n\\n혹시 AI/ML 관련해서 특별히 이야기하고 싶으신 주제가 있으신가요? 아니면 제가 도와드릴 다른 일이 있을까요?'}]\n",
      "8 [{'text': '나의 이름을 기억하나요?'}]\n",
      "9 [{'text': '네, 기억합니다. 홍길동님이시죠! AWS에서 AIML Specialist SA로 일하고 계신다고 말씀해 주셨습니다.'}]\n",
      "10 [{'text': '1'}]\n",
      "11 [{'text': '숫자 1을 입력하셨네요. 더 자세한 질문이나 도움이 필요하신 내용이 있으시면 알려주세요. 홍길동님께서 AWS의 AIML Specialist SA로 일하신다는 정보는 계속 기억하고 있습니다.'}]\n",
      "12 [{'text': '2'}]\n",
      "13 [{'text': '숫자 2를 입력하셨네요. 특별히 도움이 필요하신 내용이 있으시면 좀 더 자세히 알려주세요. 홍길동님의 AWS에서 AIML Specialist SA로서의 경험이나 질문에 대해 도움을 드릴 수 있습니다.'}]\n",
      "14 [{'text': '3'}]\n",
      "15 [{'text': '숫자 3을 입력하셨네요. 구체적인 질문이나 도움이 필요한 내용이 있으시면 알려주세요. 제가 홍길동님의 질문에 답변해 드리겠습니다. AI, ML, AWS 관련 주제나 다른 어떤 주제에 관해서도 도움을 드릴 수 있습니다.'}]\n"
     ]
    }
   ],
   "source": [
    "def print_agent_messages(agent):\n",
    "    for idx, m in enumerate(agent.messages):\n",
    "        print(idx, m['content'])\n",
    "        \n",
    "print_agent_messages(agent)"
   ]
  },
  {
   "cell_type": "markdown",
   "id": "2348621f",
   "metadata": {},
   "source": [
    "# Conversation Manager"
   ]
  },
  {
   "cell_type": "code",
   "execution_count": 12,
   "id": "189eaeef",
   "metadata": {},
   "outputs": [],
   "source": [
    "from strands.agent.conversation_manager import SlidingWindowConversationManager\n",
    "\n",
    "conversation_manager = SlidingWindowConversationManager(\n",
    "    window_size=10,  # Maximum number of message pairs to keep\n",
    ")\n",
    "\n",
    "agent_manager = Agent(conversation_manager=conversation_manager)"
   ]
  },
  {
   "cell_type": "code",
   "execution_count": 13,
   "id": "2a422c09",
   "metadata": {},
   "outputs": [
    {
     "name": "stdout",
     "output_type": "stream",
     "text": [
      "안녕하세요! 무엇을 도와드릴까요? 질문이나 대화하고 싶은 주제가 있으시면 말씀해 주세요.안녕하세요, 홍길동 님! 만나서 반갑습니다. 오늘 어떻게 도와드릴까요?안녕하세요, 홍길동 님! AWS에서 근무하시는군요. Amazon Web Services는 클라우드 컴퓨팅 분야에서 선도적인 회사입니다. AWS에서 어떤 업무를 담당하고 계신지, 또는 제가 어떤 도움을 드릴 수 있을지 알려주시면 좋겠습니다.반갑습니다, 홍길동 님! AWS에서 AIML(AI/Machine Learning) Specialist Solutions Architect로 일하고 계시는군요. 정말 흥미로운 직책이네요. AI와 머신러닝 솔루션을 고객에게 제안하고 설계하는 중요한 역할을 맡고 계신 것 같습니다. \n",
      "\n",
      "AWS의 SageMaker, Rekognition, Comprehend 같은 서비스들을 다루시거나 고객의 AI/ML 요구사항에 맞는 아키텍처를 설계하는 일을 하시나요? AI/ML 분야는 현재 빠르게 발전하고 있어 정말 흥미로운 분야라고 생각합니다.\n",
      "\n",
      "제가 AI나 AWS 서비스와 관련해서 도움이 필요하신 부분이 있으신가요?안녕하세요, 홍길동 님! Strands-agent 세션을 진행 중이시군요. \n",
      "\n",
      "AWS AIML Specialist SA로서 Strands-agent에 관심을 가지고 계신 것 같습니다. Strands-agent는 AI 에이전트 관련 기술이나 프로젝트인 것으로 보입니다.\n",
      "\n",
      "이 세션에서 특별히 논의하고 싶으신 내용이나 질문이 있으신가요? Strands-agent의 구현, 아키텍처, 사용 사례 또는 AWS 서비스와의 통합에 관한 내용을 다루고 싶으신지요? 제가 어떻게 도움을 드릴 수 있을지 알려주시면 좋겠습니다.알겠습니다. 테스트1 메시지를 확인했습니다. 요청하신 대로 더 이상의 응답은 하지 않겠습니다. 추가 도움이 필요하시면 언제든지 말씀해 주세요.알겠습니다. 테스트2 메시지 확인했습니다."
     ]
    },
    {
     "data": {
      "text/plain": [
       "AgentResult(stop_reason='end_turn', message={'role': 'assistant', 'content': [{'text': '알겠습니다. 테스트2 메시지 확인했습니다.'}]}, metrics=EventLoopMetrics(cycle_count=7, tool_metrics={}, cycle_durations=[2.9619669914245605, 1.4683599472045898, 2.7467081546783447, 7.5874011516571045, 5.622074127197266, 2.8754072189331055, 1.3617758750915527], traces=[<strands.telemetry.metrics.Trace object at 0x135833210>, <strands.telemetry.metrics.Trace object at 0x13707c290>, <strands.telemetry.metrics.Trace object at 0x13707e210>, <strands.telemetry.metrics.Trace object at 0x13707c7d0>, <strands.telemetry.metrics.Trace object at 0x13677e750>, <strands.telemetry.metrics.Trace object at 0x136766fd0>, <strands.telemetry.metrics.Trace object at 0x135cd7bd0>], accumulated_usage={'inputTokens': 2897, 'outputTokens': 861, 'totalTokens': 3758}, accumulated_metrics={'latencyMs': 22589}), state={})"
      ]
     },
     "execution_count": 13,
     "metadata": {},
     "output_type": "execute_result"
    }
   ],
   "source": [
    "# 대화를 늘려나가 봅니다. \n",
    "agent_manager('안녕하세요.')\n",
    "agent_manager('내이름은 홍길동 입니다. ')\n",
    "agent_manager('직장은 AWS 입니다. ')\n",
    "agent_manager('Role/title은 AIML Specialist SA입니다.')\n",
    "agent_manager('Strands-agent 세션을 진행하고 있습니다.')\n",
    "agent_manager('테스트1. 응답필요 없음')\n",
    "agent_manager('테스트2. 응답필요 없음')\n"
   ]
  },
  {
   "cell_type": "markdown",
   "id": "0e2dc56b",
   "metadata": {},
   "source": [
    "- 현재 conversation message 상태를 점검해 보겠습니다."
   ]
  },
  {
   "cell_type": "code",
   "execution_count": 14,
   "id": "50154f12",
   "metadata": {},
   "outputs": [
    {
     "name": "stdout",
     "output_type": "stream",
     "text": [
      "0 [{'text': '직장은 AWS 입니다. '}]\n",
      "1 [{'text': '안녕하세요, 홍길동 님! AWS에서 근무하시는군요. Amazon Web Services는 클라우드 컴퓨팅 분야에서 선도적인 회사입니다. AWS에서 어떤 업무를 담당하고 계신지, 또는 제가 어떤 도움을 드릴 수 있을지 알려주시면 좋겠습니다.'}]\n",
      "2 [{'text': 'Role/title은 AIML Specialist SA입니다.'}]\n",
      "3 [{'text': '반갑습니다, 홍길동 님! AWS에서 AIML(AI/Machine Learning) Specialist Solutions Architect로 일하고 계시는군요. 정말 흥미로운 직책이네요. AI와 머신러닝 솔루션을 고객에게 제안하고 설계하는 중요한 역할을 맡고 계신 것 같습니다. \\n\\nAWS의 SageMaker, Rekognition, Comprehend 같은 서비스들을 다루시거나 고객의 AI/ML 요구사항에 맞는 아키텍처를 설계하는 일을 하시나요? AI/ML 분야는 현재 빠르게 발전하고 있어 정말 흥미로운 분야라고 생각합니다.\\n\\n제가 AI나 AWS 서비스와 관련해서 도움이 필요하신 부분이 있으신가요?'}]\n",
      "4 [{'text': 'Strands-agent 세션을 진행하고 있습니다.'}]\n",
      "5 [{'text': '안녕하세요, 홍길동 님! Strands-agent 세션을 진행 중이시군요. \\n\\nAWS AIML Specialist SA로서 Strands-agent에 관심을 가지고 계신 것 같습니다. Strands-agent는 AI 에이전트 관련 기술이나 프로젝트인 것으로 보입니다.\\n\\n이 세션에서 특별히 논의하고 싶으신 내용이나 질문이 있으신가요? Strands-agent의 구현, 아키텍처, 사용 사례 또는 AWS 서비스와의 통합에 관한 내용을 다루고 싶으신지요? 제가 어떻게 도움을 드릴 수 있을지 알려주시면 좋겠습니다.'}]\n",
      "6 [{'text': '테스트1. 응답필요 없음'}]\n",
      "7 [{'text': '알겠습니다. 테스트1 메시지를 확인했습니다. 요청하신 대로 더 이상의 응답은 하지 않겠습니다. 추가 도움이 필요하시면 언제든지 말씀해 주세요.'}]\n",
      "8 [{'text': '테스트2. 응답필요 없음'}]\n",
      "9 [{'text': '알겠습니다. 테스트2 메시지 확인했습니다.'}]\n"
     ]
    }
   ],
   "source": [
    "print_agent_messages(agent_manager)"
   ]
  },
  {
   "cell_type": "markdown",
   "id": "dc377b8c",
   "metadata": {},
   "source": [
    "- 추가로 무의미한 대화를 더 입력 해 보겠습니다. \n",
    "- 추가 대화로 인해서, 10개의 `Conversation Window`가 채워졌고, 이전에 `이름`정보는 사라졌음을 확인 할 수 있습니다. "
   ]
  },
  {
   "cell_type": "code",
   "execution_count": 17,
   "id": "0d9c59a1",
   "metadata": {},
   "outputs": [
    {
     "name": "stdout",
     "output_type": "stream",
     "text": [
      "알겠습니다. 테스트3 메시지 확인했습니다.알겠습니다. 테스트4 메시지 확인했습니다.알겠습니다. 테스트5 메시지 확인했습니다.알겠습니다. 테스트6 메시지 확인했습니다.알겠습니다. 테스트7 메시지 확인했습니다."
     ]
    },
    {
     "data": {
      "text/plain": [
       "AgentResult(stop_reason='end_turn', message={'role': 'assistant', 'content': [{'text': '알겠습니다. 테스트7 메시지 확인했습니다.'}]}, metrics=EventLoopMetrics(cycle_count=17, tool_metrics={}, cycle_durations=[2.9619669914245605, 1.4683599472045898, 2.7467081546783447, 7.5874011516571045, 5.622074127197266, 2.8754072189331055, 1.3617758750915527, 1.5012731552124023, 1.04087233543396, 1.090467929840088, 1.4501938819885254, 0.9496269226074219, 0.7506790161132812, 0.670198917388916, 0.9936370849609375, 0.9805960655212402, 1.1733930110931396], traces=[<strands.telemetry.metrics.Trace object at 0x135833210>, <strands.telemetry.metrics.Trace object at 0x13707c290>, <strands.telemetry.metrics.Trace object at 0x13707e210>, <strands.telemetry.metrics.Trace object at 0x13707c7d0>, <strands.telemetry.metrics.Trace object at 0x13677e750>, <strands.telemetry.metrics.Trace object at 0x136766fd0>, <strands.telemetry.metrics.Trace object at 0x135cd7bd0>, <strands.telemetry.metrics.Trace object at 0x1367d5690>, <strands.telemetry.metrics.Trace object at 0x1367a5e90>, <strands.telemetry.metrics.Trace object at 0x135ce1450>, <strands.telemetry.metrics.Trace object at 0x135ce37d0>, <strands.telemetry.metrics.Trace object at 0x13707ec10>, <strands.telemetry.metrics.Trace object at 0x13576afd0>, <strands.telemetry.metrics.Trace object at 0x135851310>, <strands.telemetry.metrics.Trace object at 0x136759850>, <strands.telemetry.metrics.Trace object at 0x135c878d0>, <strands.telemetry.metrics.Trace object at 0x1367bc0d0>], accumulated_usage={'inputTokens': 6838, 'outputTokens': 1141, 'totalTokens': 7979}, accumulated_metrics={'latencyMs': 31861}), state={})"
      ]
     },
     "execution_count": 17,
     "metadata": {},
     "output_type": "execute_result"
    }
   ],
   "source": [
    "agent_manager('테스트3. 응답필요 없음')\n",
    "agent_manager('테스트4. 응답필요 없음')\n",
    "agent_manager('테스트5. 응답필요 없음')\n",
    "agent_manager('테스트6. 응답필요 없음')\n",
    "agent_manager('테스트7. 응답필요 없음')"
   ]
  },
  {
   "cell_type": "code",
   "execution_count": 18,
   "id": "53f8c94c",
   "metadata": {},
   "outputs": [
    {
     "name": "stdout",
     "output_type": "stream",
     "text": [
      "0 [{'text': '테스트3. 응답필요 없음'}]\n",
      "1 [{'text': '알겠습니다. 테스트3 메시지 확인했습니다.'}]\n",
      "2 [{'text': '테스트4. 응답필요 없음'}]\n",
      "3 [{'text': '알겠습니다. 테스트4 메시지 확인했습니다.'}]\n",
      "4 [{'text': '테스트5. 응답필요 없음'}]\n",
      "5 [{'text': '알겠습니다. 테스트5 메시지 확인했습니다.'}]\n",
      "6 [{'text': '테스트6. 응답필요 없음'}]\n",
      "7 [{'text': '알겠습니다. 테스트6 메시지 확인했습니다.'}]\n",
      "8 [{'text': '테스트7. 응답필요 없음'}]\n",
      "9 [{'text': '알겠습니다. 테스트7 메시지 확인했습니다.'}]\n"
     ]
    }
   ],
   "source": [
    "print_agent_messages(agent_manager)"
   ]
  },
  {
   "cell_type": "markdown",
   "id": "e06b45cd",
   "metadata": {},
   "source": [
    "- 예상과 같이 10개의 윈도우 안에는 이름정보가 없어서, 제대로 답변하지 못합니다. "
   ]
  },
  {
   "cell_type": "code",
   "execution_count": 19,
   "id": "0034f1be",
   "metadata": {},
   "outputs": [
    {
     "name": "stdout",
     "output_type": "stream",
     "text": [
      "죄송합니다만, 이전 대화에서 귀하의 이름을 언급하신 적이 없어서 기억하고 있지 않습니다. 혹시 이름을 알려주시면 기억하겠습니다."
     ]
    },
    {
     "data": {
      "text/plain": [
       "AgentResult(stop_reason='end_turn', message={'role': 'assistant', 'content': [{'text': '죄송합니다만, 이전 대화에서 귀하의 이름을 언급하신 적이 없어서 기억하고 있지 않습니다. 혹시 이름을 알려주시면 기억하겠습니다.'}]}, metrics=EventLoopMetrics(cycle_count=18, tool_metrics={}, cycle_durations=[2.9619669914245605, 1.4683599472045898, 2.7467081546783447, 7.5874011516571045, 5.622074127197266, 2.8754072189331055, 1.3617758750915527, 1.5012731552124023, 1.04087233543396, 1.090467929840088, 1.4501938819885254, 0.9496269226074219, 0.7506790161132812, 0.670198917388916, 0.9936370849609375, 0.9805960655212402, 1.1733930110931396, 1.9170138835906982], traces=[<strands.telemetry.metrics.Trace object at 0x135833210>, <strands.telemetry.metrics.Trace object at 0x13707c290>, <strands.telemetry.metrics.Trace object at 0x13707e210>, <strands.telemetry.metrics.Trace object at 0x13707c7d0>, <strands.telemetry.metrics.Trace object at 0x13677e750>, <strands.telemetry.metrics.Trace object at 0x136766fd0>, <strands.telemetry.metrics.Trace object at 0x135cd7bd0>, <strands.telemetry.metrics.Trace object at 0x1367d5690>, <strands.telemetry.metrics.Trace object at 0x1367a5e90>, <strands.telemetry.metrics.Trace object at 0x135ce1450>, <strands.telemetry.metrics.Trace object at 0x135ce37d0>, <strands.telemetry.metrics.Trace object at 0x13707ec10>, <strands.telemetry.metrics.Trace object at 0x13576afd0>, <strands.telemetry.metrics.Trace object at 0x135851310>, <strands.telemetry.metrics.Trace object at 0x136759850>, <strands.telemetry.metrics.Trace object at 0x135c878d0>, <strands.telemetry.metrics.Trace object at 0x1367bc0d0>, <strands.telemetry.metrics.Trace object at 0x13580c0d0>], accumulated_usage={'inputTokens': 7094, 'outputTokens': 1220, 'totalTokens': 8314}, accumulated_metrics={'latencyMs': 33632}), state={})"
      ]
     },
     "execution_count": 19,
     "metadata": {},
     "output_type": "execute_result"
    }
   ],
   "source": [
    "agent_manager('나의 이름이 뭐라고 했는지 기억하나요?')"
   ]
  },
  {
   "cell_type": "code",
   "execution_count": 11,
   "id": "569b4017",
   "metadata": {},
   "outputs": [
    {
     "name": "stdout",
     "output_type": "stream",
     "text": [
      "0 [{'text': 'Strands-agent 세션을 진행하고 있습니다.'}]\n",
      "1 [{'text': '네, 이해했습니다. 홍길동님께서 AWS에서 AIML Specialist SA로 일하시며 현재 Strands-agent 세션을 진행하고 계신 것을 기억하겠습니다. Strands-agent 세션과 관련해서 특별히 도움이 필요하신 부분이 있으신가요? 세션 진행에 필요한 정보나 지원이 있다면 말씀해 주세요.'}]\n",
      "2 [{'text': '테스트1. 응답필요 없음'}]\n",
      "3 [{'text': '알겠습니다. 테스트1 확인했습니다. 계속해서 세션을 진행하시려면 말씀해 주세요. 필요하실 때 도움을 드릴 준비가 되어 있습니다.'}]\n",
      "4 [{'text': '테스트2. 응답필요 없음'}]\n",
      "5 [{'text': '테스트2 확인했습니다. 필요하실 때 언제든지 말씀해 주세요.'}]\n",
      "6 [{'text': '너의 이름은?'}]\n",
      "7 [{'text': '저는 Claude라고 합니다. Anthropic에서 만든 AI 어시스턴트입니다. 홍길동님의 AWS AIML Specialist SA로서의 Strands-agent 세션을 지원해 드리고 있습니다. 도움이 필요하신 것이 있으시면 말씀해 주세요.'}]\n",
      "8 [{'text': '나의 이름은?'}]\n",
      "9 [{'text': '제가 알고 있는 정보에 따르면 귀하의 이름은 홍길동님입니다. AWS에서 AIML Specialist SA로 일하고 계신 것으로 기억하고 있습니다.'}]\n"
     ]
    }
   ],
   "source": [
    "print_agent_messages(agent_manager)"
   ]
  },
  {
   "cell_type": "code",
   "execution_count": null,
   "id": "454dec7e",
   "metadata": {},
   "outputs": [],
   "source": []
  }
 ],
 "metadata": {
  "kernelspec": {
   "display_name": "venv",
   "language": "python",
   "name": "python3"
  },
  "language_info": {
   "codemirror_mode": {
    "name": "ipython",
    "version": 3
   },
   "file_extension": ".py",
   "mimetype": "text/x-python",
   "name": "python",
   "nbconvert_exporter": "python",
   "pygments_lexer": "ipython3",
   "version": "3.11.11"
  }
 },
 "nbformat": 4,
 "nbformat_minor": 5
}
